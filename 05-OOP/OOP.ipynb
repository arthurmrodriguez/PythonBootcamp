{
 "cells": [
  {
   "cell_type": "markdown",
   "metadata": {},
   "source": [
    "# 05 - Object Oriented Programming (OOP)\n",
    "\n",
    "This section is intented to introduce the OOP, a programming style where the programmer defines his **own objects** that have their **own methods and attributes**. This allows to have **full control** over the **status and features of the object**, by either **returning info about the object** or **changing the object itself**.\n",
    "\n",
    "OOP good practices grant the quality of **repeatable and well-organized code**. Let's check a basic syntax of OOP:\n",
    "\n",
    "##### NOTE: we call them 'functions' when they're independent from an object. We call them 'methods' when they belong to an object.\n",
    "\n",
    "```\n",
    "class NameOfClass():\n",
    "    def __init__(self,param1, param2):\n",
    "        \n",
    "        self.param1 = param1\n",
    "        self.param2 = param2\n",
    "        \n",
    "    def some_methods(self):\n",
    "        # perform some action\n",
    "        print(self.param1)\n",
    "```"
   ]
  },
  {
   "cell_type": "markdown",
   "metadata": {},
   "source": [
    "- **__init__(self, param1, param2)** : Allows to create an actual instance of the object. Also known as constructor in other languages (i.e C++)\n",
    "- **self** keyword: indicates that param1-2 are attributes of every single instance of this class"
   ]
  },
  {
   "cell_type": "markdown",
   "metadata": {},
   "source": [
    "## OOP Part one: create classes and User defined objects"
   ]
  },
  {
   "cell_type": "markdown",
   "metadata": {},
   "source": [
    "We have lots of Python objects, such as lists, sets and so on, but now let's create our own object"
   ]
  },
  {
   "cell_type": "code",
   "execution_count": 1,
   "metadata": {},
   "outputs": [],
   "source": [
    "# Define the nature of future objects\n",
    "# Convention: CamelCase for class names\n",
    "class Sample():\n",
    "    pass"
   ]
  },
  {
   "cell_type": "code",
   "execution_count": 4,
   "metadata": {},
   "outputs": [
    {
     "data": {
      "text/plain": [
       "__main__.Sample"
      ]
     },
     "execution_count": 4,
     "metadata": {},
     "output_type": "execute_result"
    }
   ],
   "source": [
    "# Now let's create our first instance\n",
    "my_sample = Sample()\n",
    "type(my_sample)"
   ]
  },
  {
   "cell_type": "markdown",
   "metadata": {},
   "source": [
    "Let's redefine our class to have methods! \n",
    "Remember: self keyword indicates that a method or atribute belongs to a certain class.\n",
    "#### NOTE: by convention, both attribute and parameter name will be the same!"
   ]
  },
  {
   "cell_type": "code",
   "execution_count": 21,
   "metadata": {},
   "outputs": [],
   "source": [
    "class Dog():\n",
    "\n",
    "    # Default, and by convention, first method of a class\n",
    "    def __init__(self,breed,name,spots):\n",
    "        # Attributes\n",
    "        # We take in the argument and assign it using self.<whatever>\n",
    "        self.breed = breed\n",
    "        self.name = name\n",
    "        # Expect boolean T/F\n",
    "        self.spots = spots"
   ]
  },
  {
   "cell_type": "markdown",
   "metadata": {},
   "source": [
    "As stated before, **__init__** method is the **constructor of the object**, which means that when we want to create a **Dog** instance, it is **mandatory** that we indicate a specific *breed*. The **self** keyword represents the instance of the object **itself** (explicitly declared!). So if we do the following, it will fail."
   ]
  },
  {
   "cell_type": "code",
   "execution_count": 22,
   "metadata": {},
   "outputs": [
    {
     "ename": "TypeError",
     "evalue": "__init__() missing 3 required positional arguments: 'breed', 'name', and 'spots'",
     "output_type": "error",
     "traceback": [
      "\u001b[0;31m---------------------------------------------------------------------------\u001b[0m",
      "\u001b[0;31mTypeError\u001b[0m                                 Traceback (most recent call last)",
      "\u001b[0;32m<ipython-input-22-78006438a62d>\u001b[0m in \u001b[0;36m<module>\u001b[0;34m()\u001b[0m\n\u001b[1;32m      1\u001b[0m \u001b[0;31m# __init__ method is called when we create an instance of the class Dog\u001b[0m\u001b[0;34m\u001b[0m\u001b[0;34m\u001b[0m\u001b[0m\n\u001b[0;32m----> 2\u001b[0;31m \u001b[0mmy_dog\u001b[0m \u001b[0;34m=\u001b[0m \u001b[0mDog\u001b[0m\u001b[0;34m(\u001b[0m\u001b[0;34m)\u001b[0m\u001b[0;34m\u001b[0m\u001b[0m\n\u001b[0m",
      "\u001b[0;31mTypeError\u001b[0m: __init__() missing 3 required positional arguments: 'breed', 'name', and 'spots'"
     ]
    }
   ],
   "source": [
    "# __init__ method is called when we create an instance of the class Dog\n",
    "my_dog = Dog()"
   ]
  },
  {
   "cell_type": "code",
   "execution_count": 23,
   "metadata": {},
   "outputs": [
    {
     "name": "stdout",
     "output_type": "stream",
     "text": [
      "<class '__main__.Dog'>\n"
     ]
    }
   ],
   "source": [
    "# Now let's specify a breed\n",
    "my_dog = Dog(breed='Lab', name='Jack', spots=True)\n",
    "print(type(my_dog))"
   ]
  },
  {
   "cell_type": "code",
   "execution_count": 24,
   "metadata": {},
   "outputs": [
    {
     "data": {
      "text/plain": [
       "'Jack'"
      ]
     },
     "execution_count": 24,
     "metadata": {},
     "output_type": "execute_result"
    }
   ],
   "source": [
    "my_dog.name"
   ]
  },
  {
   "cell_type": "code",
   "execution_count": 25,
   "metadata": {},
   "outputs": [
    {
     "data": {
      "text/plain": [
       "True"
      ]
     },
     "execution_count": 25,
     "metadata": {},
     "output_type": "execute_result"
    }
   ],
   "source": [
    "my_dog.spots"
   ]
  },
  {
   "cell_type": "markdown",
   "metadata": {},
   "source": [
    "### NOTE: It's often recommended that we attach some doc to our class because due to Python's type of objects, we can get easily confused with the data type needed for a certain attribute."
   ]
  },
  {
   "cell_type": "code",
   "execution_count": null,
   "metadata": {},
   "outputs": [],
   "source": []
  }
 ],
 "metadata": {
  "kernelspec": {
   "display_name": "Python 3",
   "language": "python",
   "name": "python3"
  },
  "language_info": {
   "codemirror_mode": {
    "name": "ipython",
    "version": 3
   },
   "file_extension": ".py",
   "mimetype": "text/x-python",
   "name": "python",
   "nbconvert_exporter": "python",
   "pygments_lexer": "ipython3",
   "version": "3.6.5"
  }
 },
 "nbformat": 4,
 "nbformat_minor": 2
}

{
 "cells": [
  {
   "cell_type": "markdown",
   "metadata": {},
   "source": [
    "# 05 - Object Oriented Programming (OOP)\n",
    "\n",
    "This section is intented to introduce the OOP, a programming style where the programmer defines his **own objects** that have their **own methods and attributes**. This allows to have **full control** over the **status and features of the object**, by either **returning info about the object** or **changing the object itself**.\n",
    "\n",
    "OOP good practices grant the quality of **repeatable and well-organized code**. Let's check a basic syntax of OOP:\n",
    "\n",
    "##### NOTE: we call them 'functions' when they're independent from an object. We call them 'methods' when they belong to an object.\n",
    "\n",
    "```\n",
    "class NameOfClass():\n",
    "    def __init__(self,param1, param2):\n",
    "        \n",
    "        self.param1 = param1\n",
    "        self.param2 = param2\n",
    "        \n",
    "    def some_methods(self):\n",
    "        # perform some action\n",
    "        print(self.param1)\n",
    "```"
   ]
  },
  {
   "cell_type": "markdown",
   "metadata": {},
   "source": [
    "- **__init__(self, param1, param2)** : Allows to create an actual instance of the object. Also known as constructor in other languages (i.e C++)\n",
    "- **self** keyword: indicates that param1-2 are attributes of every single instance of this class"
   ]
  },
  {
   "cell_type": "code",
   "execution_count": null,
   "metadata": {},
   "outputs": [],
   "source": []
  }
 ],
 "metadata": {
  "kernelspec": {
   "display_name": "Python 3",
   "language": "python",
   "name": "python3"
  },
  "language_info": {
   "codemirror_mode": {
    "name": "ipython",
    "version": 3
   },
   "file_extension": ".py",
   "mimetype": "text/x-python",
   "name": "python",
   "nbconvert_exporter": "python",
   "pygments_lexer": "ipython3",
   "version": "3.6.5"
  }
 },
 "nbformat": 4,
 "nbformat_minor": 2
}

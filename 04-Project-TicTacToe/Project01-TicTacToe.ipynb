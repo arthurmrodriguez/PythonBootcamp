{
 "cells": [
  {
   "cell_type": "markdown",
   "metadata": {},
   "source": [
    "# Milestone Project 01 - Tic Tac Toe Game\n",
    "\n",
    "This milestone project is intended to put in work every aspect of previous lessons by developing a fully-functional **Tic Tac Toe game**. The development of this project will be done following a step-by-step design, where none of the previous walkthroughs or knowledge besides from the **Milestone Project Help** will be used.\n",
    "\n",
    "Each of the steps taken in the development of this game will be known as a **Task**, where each task fulfills a concrete aspect of the game. Also, each of these tasks will go over a *test* in order to guarantee an optimum behavior."
   ]
  },
  {
   "cell_type": "markdown",
   "metadata": {},
   "source": [
    "## Task 1: Choose board representation"
   ]
  },
  {
   "cell_type": "markdown",
   "metadata": {},
   "source": [
    "A Tic Tac Toe board could be represented as a 3x3 matrix but, in order to simplify the representation, a **numpad** will be used. A **3x3 numpad** with values [1,2,3] (top), [4,5,6] (middle) and [7,8,9] (bottom) will be internally represented as a **list of size 10**, where the first element is a **NULL** token and the rest from [1] to [9] represent the actual numbers of the numpad chosen as the board representation.\n",
    "\n",
    "This representation allows the players to select a number from 1 to 9 where they want to put their mark (X or O) and the board will be filled with these symbols, which will be shown in the current game board."
   ]
  },
  {
   "cell_type": "code",
   "execution_count": 6,
   "metadata": {},
   "outputs": [
    {
     "data": {
      "text/plain": [
       "['#', 1, 2, 3, 4, 5, 6, 7, 8, 9]"
      ]
     },
     "execution_count": 6,
     "metadata": {},
     "output_type": "execute_result"
    }
   ],
   "source": [
    "# Game board of size 10, where numbers 1-9 are in the positions [1...9]\n",
    "game_board = list(range(0,10))\n",
    "game_board[0] = '#'\n",
    "game_board"
   ]
  },
  {
   "cell_type": "markdown",
   "metadata": {},
   "source": [
    "# Task 2: Print a board\n",
    "\n",
    "After deciding how to internally represent a board, it is then necessary to decide how to print it so it is human-readable and \"playable\". We have chosen to use simple **-** and **|** characters in order to make the *numpad - tic-tac-toe design*. We'll need three main methods:\n",
    "\n",
    "- A method for vertical lines\n",
    "- A method for horizontal lines\n",
    "- A **main printer method** to structure all these lines and printing the actual board on the screen"
   ]
  },
  {
   "cell_type": "code",
   "execution_count": 78,
   "metadata": {},
   "outputs": [
    {
     "name": "stdout",
     "output_type": "stream",
     "text": [
      "             |             |             \n",
      "             |             |             \n",
      "      0      |      1      |      2       \n",
      "             |             |             \n",
      "             |             |             \n"
     ]
    }
   ],
   "source": [
    "# Method for vertical lines\n",
    "def v_line(board):\n",
    "    for i in range(0,5):\n",
    "        if i == 2:\n",
    "            print(f'      {board[0]}      |      {board[1]}      |      {board[2]}       ')\n",
    "        else:\n",
    "            print('             |             |             ')\n",
    "v_line(list(range(3)))"
   ]
  },
  {
   "cell_type": "code",
   "execution_count": 81,
   "metadata": {},
   "outputs": [],
   "source": [
    "# Method for horizontal lines\n",
    "def h_line():\n",
    "    print('_____________ _____________ _____________')"
   ]
  },
  {
   "cell_type": "code",
   "execution_count": 83,
   "metadata": {},
   "outputs": [
    {
     "name": "stdout",
     "output_type": "stream",
     "text": [
      "             |             |             \n",
      "             |             |             \n",
      "      1      |      2      |      3       \n",
      "             |             |             \n",
      "             |             |             \n",
      "_____________ _____________ _____________\n",
      "             |             |             \n",
      "             |             |             \n",
      "      4      |      5      |      6       \n",
      "             |             |             \n",
      "             |             |             \n",
      "_____________ _____________ _____________\n",
      "             |             |             \n",
      "             |             |             \n",
      "      7      |      8      |      9       \n",
      "             |             |             \n",
      "             |             |             \n"
     ]
    }
   ],
   "source": [
    "# Main method for board printing: elements printed\n",
    "# between rows are the corresponding to each 'cell'\n",
    "# of the numpad\n",
    "def print_board(board=game_board):\n",
    "    v_line(board[1:4])\n",
    "    h_line()\n",
    "    v_line(board[4:7])\n",
    "    h_line()\n",
    "    v_line(board[7:10])\n",
    "\n",
    "print_board()"
   ]
  },
  {
   "cell_type": "code",
   "execution_count": null,
   "metadata": {},
   "outputs": [],
   "source": []
  }
 ],
 "metadata": {
  "kernelspec": {
   "display_name": "Python 3",
   "language": "python",
   "name": "python3"
  },
  "language_info": {
   "codemirror_mode": {
    "name": "ipython",
    "version": 3
   },
   "file_extension": ".py",
   "mimetype": "text/x-python",
   "name": "python",
   "nbconvert_exporter": "python",
   "pygments_lexer": "ipython3",
   "version": "3.6.5"
  }
 },
 "nbformat": 4,
 "nbformat_minor": 2
}

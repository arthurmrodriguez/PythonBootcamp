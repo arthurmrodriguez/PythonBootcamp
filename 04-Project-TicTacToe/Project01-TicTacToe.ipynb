{
 "cells": [
  {
   "cell_type": "markdown",
   "metadata": {},
   "source": [
    "# Milestone Project 01 - Tic Tac Toe Game\n",
    "\n",
    "This milestone project is intended to put in work every aspect of previous lessons by developing a fully-functional **Tic Tac Toe game**. The development of this project will be done following a step-by-step design, where none of the previous walkthroughs or knowledge besides from the **Milestone Project Help** will be used.\n",
    "\n",
    "Each of the steps taken in the development of this game will be known as a **Task**, where each task fulfills a concrete aspect of the game. Also, each of these tasks will go over a *test* in order to guarantee an optimum behavior."
   ]
  },
  {
   "cell_type": "markdown",
   "metadata": {},
   "source": [
    "## Task 1: Choose board representation"
   ]
  },
  {
   "cell_type": "markdown",
   "metadata": {},
   "source": [
    "A Tic Tac Toe board could be represented as a 3x3 matrix but, in order to simplify the representation, a **numpad** will be used. A **3x3 numpad** with values [1,2,3] (top), [4,5,6] (middle) and [7,8,9] (bottom) will be internally represented as a **list of size 10**, where the first element is a **NULL** token and the rest from [1] to [9] represent the actual numbers of the numpad chosen as the board representation.\n",
    "\n",
    "This representation allows the players to select a number from 1 to 9 where they want to put their mark (X or O) and the board will be filled with these symbols, which will be shown in the current game board."
   ]
  },
  {
   "cell_type": "code",
   "execution_count": 7,
   "metadata": {},
   "outputs": [
    {
     "data": {
      "text/plain": [
       "['#', 1, 2, 3, 4, 5, 6, 7, 8, 9]"
      ]
     },
     "execution_count": 7,
     "metadata": {},
     "output_type": "execute_result"
    }
   ],
   "source": [
    "# Game board of size 10, where numbers 1-9 are in the positions [1...9]\n",
    "game_board = list(range(0,10))\n",
    "game_board[0] = '#'\n",
    "game_board"
   ]
  },
  {
   "cell_type": "markdown",
   "metadata": {},
   "source": [
    "# Task 2: Print a board\n",
    "\n",
    "After deciding how to internally represent a board, it is then necessary to decide how to print it so it is human-readable and \"playable\". We have chosen to use simple **-** and **|** characters in order to make the *numpad - tic-tac-toe design*. We'll need three main methods:\n",
    "\n",
    "- A method for vertical lines\n",
    "- A method for horizontal lines\n",
    "- A **main printer method** to structure all these lines and printing the actual board on the screen"
   ]
  },
  {
   "cell_type": "code",
   "execution_count": 8,
   "metadata": {},
   "outputs": [
    {
     "name": "stdout",
     "output_type": "stream",
     "text": [
      "             |             |             \n",
      "             |             |             \n",
      "      0      |      1      |      2       \n",
      "             |             |             \n",
      "             |             |             \n"
     ]
    }
   ],
   "source": [
    "# Method for vertical lines\n",
    "def v_line(board):\n",
    "    for i in range(0,5):\n",
    "        if i == 2:\n",
    "            print(f'      {board[0]}      |      {board[1]}      |      {board[2]}       ')\n",
    "        else:\n",
    "            print('             |             |             ')\n",
    "v_line(list(range(3)))"
   ]
  },
  {
   "cell_type": "code",
   "execution_count": 9,
   "metadata": {},
   "outputs": [],
   "source": [
    "# Method for horizontal lines\n",
    "def h_line():\n",
    "    print('_____________ _____________ _____________')"
   ]
  },
  {
   "cell_type": "code",
   "execution_count": 10,
   "metadata": {},
   "outputs": [
    {
     "name": "stdout",
     "output_type": "stream",
     "text": [
      "             |             |             \n",
      "             |             |             \n",
      "      1      |      2      |      3       \n",
      "             |             |             \n",
      "             |             |             \n",
      "_____________ _____________ _____________\n",
      "             |             |             \n",
      "             |             |             \n",
      "      4      |      5      |      6       \n",
      "             |             |             \n",
      "             |             |             \n",
      "_____________ _____________ _____________\n",
      "             |             |             \n",
      "             |             |             \n",
      "      7      |      8      |      9       \n",
      "             |             |             \n",
      "             |             |             \n"
     ]
    }
   ],
   "source": [
    "# Main method for board printing: elements printed\n",
    "# between rows are the corresponding to each 'cell'\n",
    "# of the numpad\n",
    "def print_board(board=game_board):\n",
    "    v_line(board[1:4])\n",
    "    h_line()\n",
    "    v_line(board[4:7])\n",
    "    h_line()\n",
    "    v_line(board[7:10])\n",
    "\n",
    "print_board()"
   ]
  },
  {
   "cell_type": "markdown",
   "metadata": {},
   "source": [
    "# Task 3: take user input\n",
    "\n",
    "Now that we can print a game board, we can go over the task of **asking the user for input**, in order to fill in the board with the markers they have decided to use.\n",
    "\n",
    "We have decided to put both of these functionalities in **a single method**, where a token will be used in order to determine whether the user needs to indicate a **marker** from ['X', 'O'] or a **number** from 1 to 9 indicating the cell where his marker will be placed."
   ]
  },
  {
   "cell_type": "code",
   "execution_count": 29,
   "metadata": {},
   "outputs": [],
   "source": [
    "# User input method for choosing game marker\n",
    "def user_input(token = 'number', board = '', player = ''):\n",
    "    \n",
    "    # Display message depending on token\n",
    "    message = f'{player}: Choose a valid cell to place marker'\n",
    "    if token is not 'number':\n",
    "        message = 'Player 1: choose your marker from X or O'        \n",
    "      \n",
    "    usr_input = ''\n",
    "    valid_input = False\n",
    "    while not valid_input:\n",
    "        \n",
    "        print(message)\n",
    "        usr_input = input()\n",
    "        \n",
    "        if token == 'marker': \n",
    "            if usr_input.upper() in ['X','O']:\n",
    "                valid_input = True\n",
    "        \n",
    "        elif token == 'number':\n",
    "            if usr_input not in list(map(lambda num : str(num),range(1,10))):\n",
    "                continue\n",
    "                \n",
    "            number = int(usr_input)\n",
    "            if number in range(1,10) and board[number] not in ['X','O']:\n",
    "                valid_input = True\n",
    "    \n",
    "    return usr_input"
   ]
  },
  {
   "cell_type": "code",
   "execution_count": 20,
   "metadata": {},
   "outputs": [
    {
     "name": "stdout",
     "output_type": "stream",
     "text": [
      "Player 1: choose your marker from X or O\n",
      "yes\n",
      "Player 1: choose your marker from X or O\n",
      "no\n",
      "Player 1: choose your marker from X or O\n",
      "ok\n",
      "Player 1: choose your marker from X or O\n",
      "10\n",
      "Player 1: choose your marker from X or O\n",
      "x\n"
     ]
    },
    {
     "data": {
      "text/plain": [
       "'x'"
      ]
     },
     "execution_count": 20,
     "metadata": {},
     "output_type": "execute_result"
    }
   ],
   "source": [
    "# Test for user input: marker\n",
    "user_input(token = 'marker')"
   ]
  },
  {
   "cell_type": "code",
   "execution_count": 30,
   "metadata": {},
   "outputs": [
    {
     "name": "stdout",
     "output_type": "stream",
     "text": [
      ": Choose a valid cell to place marker\n",
      "10\n",
      ": Choose a valid cell to place marker\n",
      "0\n",
      ": Choose a valid cell to place marker\n",
      "3\n",
      ": Choose a valid cell to place marker\n",
      "6\n",
      ": Choose a valid cell to place marker\n",
      "yes\n",
      ": Choose a valid cell to place marker\n",
      "1\n"
     ]
    },
    {
     "data": {
      "text/plain": [
       "'1'"
      ]
     },
     "execution_count": 30,
     "metadata": {},
     "output_type": "execute_result"
    }
   ],
   "source": [
    "# Test for user input: number\n",
    "game_board[3] = 'X'\n",
    "game_board[6] = 'O'\n",
    "user_input(board = game_board)"
   ]
  },
  {
   "cell_type": "markdown",
   "metadata": {},
   "source": [
    "### Task 4: check game status\n",
    "\n",
    "This task is intended to check the game status after every single play of the game. Every time a player puts a marker on a cell, we should check the game status in order to determine if it's a **win or a tie** (loss is the alter-ego of win).\n",
    "\n",
    "In order to accomplish this, a method that checks the board game over a particular marker is needed. As explained before, the board is seen as a **numpad**, so we have to check in three directions: **horizontal, vertical and diagonal**.\n",
    "\n",
    "In favor of readability and simplicity a set of *if statements* will be used to determine the course of the game"
   ]
  },
  {
   "cell_type": "code",
   "execution_count": 22,
   "metadata": {},
   "outputs": [],
   "source": [
    "# Method to check game status\n",
    "def check_status(board, marker):\n",
    "    # Default status\n",
    "    game_status = 'ongoing'\n",
    "    \n",
    "    # Checks win\n",
    "    if (board[1]==board[2]==board[3]==marker or\n",
    "        board[4]==board[5]==board[6]==marker or\n",
    "        board[7]==board[8]==board[9]==marker or\n",
    "        board[1]==board[4]==board[7]==marker or\n",
    "        board[2]==board[5]==board[8]==marker or\n",
    "        board[3]==board[6]==board[9]==marker or\n",
    "        board[1]==board[5]==board[9]==marker or\n",
    "        board[3]==board[5]==board[7]==marker):\n",
    "            game_status = 'win'\n",
    "            \n",
    "    # Checks tie: all cells are covered but no one won\n",
    "    elif all(map(lambda cell: cell in ['X','O'],board[1:])):\n",
    "        game_status = 'tie'\n",
    "        \n",
    "    return game_status\n",
    "    \n",
    "    "
   ]
  },
  {
   "cell_type": "code",
   "execution_count": 23,
   "metadata": {},
   "outputs": [
    {
     "name": "stdout",
     "output_type": "stream",
     "text": [
      "win\n",
      "tie\n",
      "ongoing\n"
     ]
    }
   ],
   "source": [
    "# Test check game status\n",
    "# Must be: win, tie, ongoing\n",
    "print(check_status(['#','X','X','X','O','1','6','O','O','9'],'X'))\n",
    "print(check_status(['#','O','X','O','O','X','O','X','O','X'],'X'))\n",
    "print(check_status(['#','X','X','','O','','6','','','9'],'X'))"
   ]
  },
  {
   "cell_type": "markdown",
   "metadata": {},
   "source": [
    "# Task 5: start game play\n",
    "\n",
    "This could be considered the final task, where everything needed to complete a Tic Tac Toe match will be implemented. We need to keep track of a few things, such as **the current player** or **the global game status**, as well as the decisions after the potential win or tie, like playing another match.\n",
    "\n",
    "We'll make use of previously defined methods in order to grant a playable versions of this classical game.\n",
    "\n",
    "## Task 5.1: add replay functionality\n",
    "\n",
    "After this first development of the game, we will add a funcionality to allow the players to play another match after the one they're playing ends. In order to do this, we will enclose the **starting game directives** in a function that controls the **start of the game** while the rest of the process remains the same: ask for input, mark a cell and change player."
   ]
  },
  {
   "cell_type": "code",
   "execution_count": 40,
   "metadata": {},
   "outputs": [],
   "source": [
    "# Method to start game or a new match\n",
    "def start_match():\n",
    "    clear_output()\n",
    "    gameboard = [' '] * 10\n",
    "    print_board(gameboard)\n",
    "    return [gameboard,'start']\n",
    "\n",
    "# Method to change player\n",
    "def change_player(current_player):\n",
    "    if current_player == 'Player1':\n",
    "        return 'Player2'\n",
    "    else:\n",
    "        return 'Player1'\n",
    "    \n",
    "# Method to replay\n",
    "def replay():\n",
    "    print('Do you want to play again? Yes or no')\n",
    "    answer = input()\n",
    "    replay = False\n",
    "    \n",
    "    if answer.lower() == 'yes':\n",
    "        replay = True\n",
    "        \n",
    "    return replay"
   ]
  },
  {
   "cell_type": "code",
   "execution_count": 41,
   "metadata": {},
   "outputs": [],
   "source": [
    "# Main method: controls the whole game\n",
    "from IPython.display import clear_output\n",
    "def play_tictactoe():\n",
    "    \n",
    "    # Game variables definition\n",
    "    gameboard = [' '] * 10\n",
    "    markers = ['X','O']\n",
    "    game_stat = ' '\n",
    "    \n",
    "    # Game starts from here\n",
    "    print('Welcome to Tic Tac Toe v1.0')\n",
    "    \n",
    "    # Marker selection\n",
    "    player1_marker = user_input(token='marker').upper()\n",
    "    markers.remove(player1_marker)\n",
    "    player2_marker = markers[0]\n",
    "    players = {'Player1': player1_marker, 'Player2':player2_marker}\n",
    "    \n",
    "    current_player = list(filter(lambda key: players[key] == 'X',players.keys()))[0]\n",
    "    \n",
    "    print(f'{current_player} will go first!')\n",
    "    print('Are you ready to start? Yes or No')\n",
    "    start = input()\n",
    "    \n",
    "    if start.lower() == 'yes':\n",
    "        [gameboard,game_stat] = start_match()\n",
    "        \n",
    "    # Gameplay: \n",
    "    #   - Ask for a move from current player and change\n",
    "    #   - Check game status\n",
    "    #   - Continue or endgame\n",
    "    while game_stat in ['start','ongoing']:\n",
    "        \n",
    "        cell = int(user_input(board = gameboard, player = current_player))\n",
    "        gameboard[cell] = players[current_player]\n",
    "        clear_output()\n",
    "        print_board(gameboard)\n",
    "        game_stat = check_status(gameboard,players[current_player])\n",
    "        \n",
    "        # Check whether the match is a win or a tie\n",
    "        if game_stat == 'win':\n",
    "            print(f'Congratulations, {current_player} has won the match!')\n",
    "        elif game_stat == 'tie':\n",
    "            print('The game ended in a tie!')\n",
    "        else:\n",
    "            current_player = change_player(current_player)\n",
    "        \n",
    "        # Ask if player wants to play again after a win or tie\n",
    "        if game_stat in ['win','tie']:\n",
    "\n",
    "            if not replay():\n",
    "                break\n",
    "            else:\n",
    "                current_player = list(filter(lambda key: players[key] == 'X',players.keys()))[0]\n",
    "                print(f'{current_player} will go first!')\n",
    "                [gameboard,game_stat] = start_match()\n",
    "            \n",
    "    print('Goodbye!')\n",
    "    "
   ]
  },
  {
   "cell_type": "code",
   "execution_count": 42,
   "metadata": {},
   "outputs": [
    {
     "name": "stdout",
     "output_type": "stream",
     "text": [
      "             |             |             \n",
      "             |             |             \n",
      "      X      |      X      |              \n",
      "             |             |             \n",
      "             |             |             \n",
      "_____________ _____________ _____________\n",
      "             |             |             \n",
      "             |             |             \n",
      "      O      |      X      |              \n",
      "             |             |             \n",
      "             |             |             \n",
      "_____________ _____________ _____________\n",
      "             |             |             \n",
      "             |             |             \n",
      "      O      |      X      |      O       \n",
      "             |             |             \n",
      "             |             |             \n",
      "Congratulations, Player1 has won the match!\n",
      "Do you want to play again? Yes or no\n",
      "no\n",
      "Goodbye!\n"
     ]
    }
   ],
   "source": [
    "play_tictactoe()"
   ]
  },
  {
   "cell_type": "code",
   "execution_count": null,
   "metadata": {},
   "outputs": [],
   "source": []
  }
 ],
 "metadata": {
  "kernelspec": {
   "display_name": "Python 3",
   "language": "python",
   "name": "python3"
  },
  "language_info": {
   "codemirror_mode": {
    "name": "ipython",
    "version": 3
   },
   "file_extension": ".py",
   "mimetype": "text/x-python",
   "name": "python",
   "nbconvert_exporter": "python",
   "pygments_lexer": "ipython3",
   "version": "3.6.5"
  }
 },
 "nbformat": 4,
 "nbformat_minor": 2
}

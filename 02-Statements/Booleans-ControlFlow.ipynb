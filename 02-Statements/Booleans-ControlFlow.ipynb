{
 "cells": [
  {
   "cell_type": "markdown",
   "metadata": {},
   "source": [
    "# Reminder\n",
    "\n",
    "Python uses **and**, **or** and **not** operators instead of classical *&&*, *||* and *!*"
   ]
  },
  {
   "cell_type": "markdown",
   "metadata": {},
   "source": [
    "# Control flow: if, elif and else"
   ]
  },
  {
   "cell_type": "markdown",
   "metadata": {},
   "source": [
    "Control flow uses **whitespace indentation** along with character **:** to indicate that from this point the following code will be executed **iff** condition is met. Main syntax is:\n",
    "\n",
    "```\n",
    "if one_condition:\n",
    "    # Code indentation\n",
    "elif another_condition:\n",
    "    # Code indentation\n",
    "else:\n",
    "    # Base case\n",
    "```"
   ]
  },
  {
   "cell_type": "code",
   "execution_count": 2,
   "metadata": {},
   "outputs": [
    {
     "name": "stdout",
     "output_type": "stream",
     "text": [
      "It's true\n"
     ]
    }
   ],
   "source": [
    "if (3>2):\n",
    "    print('It\\'s true')\n",
    "elif ('h' == 'H'):\n",
    "    print('True again')\n",
    "else:\n",
    "    print('Default')"
   ]
  },
  {
   "cell_type": "markdown",
   "metadata": {},
   "source": [
    "# Loops: for"
   ]
  },
  {
   "cell_type": "markdown",
   "metadata": {},
   "source": [
    "General syntax **for** implies iterating over a set of values, independently from their order. Main syntax:\n",
    "\n",
    "```\n",
    "iterable = [1,2,3]\n",
    "for name in iterable:\n",
    "    # do things\n",
    "```"
   ]
  },
  {
   "cell_type": "code",
   "execution_count": 3,
   "metadata": {},
   "outputs": [],
   "source": [
    "mylist = [1,2,3,4,5,6,7,8,9,10]"
   ]
  },
  {
   "cell_type": "code",
   "execution_count": 5,
   "metadata": {},
   "outputs": [
    {
     "name": "stdout",
     "output_type": "stream",
     "text": [
      "Number is 1 y 2\n",
      "Number is 2 y 3\n",
      "Number is 3 y 4\n",
      "Number is 4 y 5\n",
      "Number is 5 y 6\n",
      "Number is 6 y 7\n",
      "Number is 7 y 8\n",
      "Number is 8 y 9\n",
      "Number is 9 y 10\n",
      "Number is 10 y 11\n"
     ]
    }
   ],
   "source": [
    "for num in mylist:\n",
    "    print(\"Number is %d y %d\" %(num,num+1))"
   ]
  },
  {
   "cell_type": "code",
   "execution_count": 8,
   "metadata": {},
   "outputs": [
    {
     "name": "stdout",
     "output_type": "stream",
     "text": [
      "1 is odd\n",
      "2 is even\n",
      "3 is odd\n",
      "4 is even\n",
      "5 is odd\n",
      "6 is even\n",
      "7 is odd\n",
      "8 is even\n",
      "9 is odd\n",
      "10 is even\n"
     ]
    }
   ],
   "source": [
    "for num in mylist:\n",
    "    # Check pairs\n",
    "    if not(num%2):\n",
    "        print(\"%d is even\" %num)\n",
    "    else:\n",
    "        print(\"%d is odd\" %num)"
   ]
  },
  {
   "cell_type": "code",
   "execution_count": 13,
   "metadata": {},
   "outputs": [
    {
     "name": "stdout",
     "output_type": "stream",
     "text": [
      "55\n"
     ]
    }
   ],
   "source": [
    "list_sum = 0\n",
    "\n",
    "for num in mylist:\n",
    "    list_sum+=num\n",
    "    \n",
    "print(list_sum)"
   ]
  },
  {
   "cell_type": "markdown",
   "metadata": {},
   "source": [
    "### Tip\n",
    "\n",
    "**String** data type could be also iterated over, due to its inner structure (set of ordered chars)\n",
    "\n",
    "### Reminder:\n",
    "- **Print** method places a *\\n* after everything that is written.\n",
    "\n",
    "- Character underscore **_** could be used when iteration over a loop doesn't need to use a variable over the set of values being iterated.\n",
    "\n",
    "- Tuples could also be iterated."
   ]
  },
  {
   "cell_type": "code",
   "execution_count": 9,
   "metadata": {},
   "outputs": [
    {
     "name": "stdout",
     "output_type": "stream",
     "text": [
      "Helloworld\n"
     ]
    }
   ],
   "source": [
    "upcase_string = ''\n",
    "for letter in \"helloworld\":\n",
    "    if( (letter == 'h') or (letter == 'm')):\n",
    "        upcase_string+= letter.upper()\n",
    "    else:\n",
    "        upcase_string+=letter\n",
    "print(upcase_string)\n",
    "        "
   ]
  },
  {
   "cell_type": "code",
   "execution_count": 12,
   "metadata": {},
   "outputs": [],
   "source": [
    "mylist = [(1,2),(3,4),(5,6),(7,8)]"
   ]
  },
  {
   "cell_type": "code",
   "execution_count": 13,
   "metadata": {},
   "outputs": [
    {
     "data": {
      "text/plain": [
       "4"
      ]
     },
     "execution_count": 13,
     "metadata": {},
     "output_type": "execute_result"
    }
   ],
   "source": [
    "len(mylist)"
   ]
  },
  {
   "cell_type": "code",
   "execution_count": 14,
   "metadata": {},
   "outputs": [
    {
     "name": "stdout",
     "output_type": "stream",
     "text": [
      "(1, 2)\n",
      "(3, 4)\n",
      "(5, 6)\n",
      "(7, 8)\n"
     ]
    }
   ],
   "source": [
    "for item in mylist:\n",
    "    print(item)"
   ]
  },
  {
   "cell_type": "markdown",
   "metadata": {},
   "source": [
    "**Tuple unpacking** allows us to access the **internal structure** of data in order to reference the single elements of the tuples"
   ]
  },
  {
   "cell_type": "code",
   "execution_count": 15,
   "metadata": {},
   "outputs": [
    {
     "name": "stdout",
     "output_type": "stream",
     "text": [
      "1\n",
      "2\n",
      "3\n",
      "4\n",
      "5\n",
      "6\n",
      "7\n",
      "8\n"
     ]
    }
   ],
   "source": [
    "for a,b in mylist:\n",
    "    print(a)\n",
    "    print(b)"
   ]
  },
  {
   "cell_type": "code",
   "execution_count": 16,
   "metadata": {},
   "outputs": [
    {
     "name": "stdout",
     "output_type": "stream",
     "text": [
      "1\n",
      "2\n",
      "3\n"
     ]
    }
   ],
   "source": [
    "d = {'k1':3, 'k2':1, 'k3':2}\n",
    "# Map iteration is only over the keys\n",
    "for v in sorted(d.values()):\n",
    "    print(v)"
   ]
  },
  {
   "cell_type": "markdown",
   "metadata": {},
   "source": [
    "# Loops: while\n",
    "\n",
    "Syntax:\n",
    "\n",
    "```\n",
    "while boolean_condition:\n",
    "    # do smtn...\n",
    "else:\n",
    "    # do another thing...\n",
    "```"
   ]
  },
  {
   "cell_type": "code",
   "execution_count": 17,
   "metadata": {},
   "outputs": [
    {
     "name": "stdout",
     "output_type": "stream",
     "text": [
      " x is 0\n",
      " x is 1\n",
      " x is 2\n",
      " x is 3\n",
      " x is 4\n",
      " Now value is 5\n"
     ]
    }
   ],
   "source": [
    "x = 0\n",
    "while x < 5:\n",
    "    print(f' x is {x}')\n",
    "    x+=1\n",
    "else:\n",
    "    print(f\" Now value is {x}\")"
   ]
  },
  {
   "cell_type": "markdown",
   "metadata": {},
   "source": [
    "## break, continue, pass\n",
    "\n",
    "```\n",
    "break: exits closer loop\n",
    "continue: moves to closer loop's begining\n",
    "pass: placeholder that does nothing\n",
    "```"
   ]
  },
  {
   "cell_type": "code",
   "execution_count": 18,
   "metadata": {},
   "outputs": [],
   "source": [
    "x = [1,2,3]\n",
    "\n",
    "for item in x:\n",
    "    # token\n",
    "    pass"
   ]
  },
  {
   "cell_type": "code",
   "execution_count": 19,
   "metadata": {},
   "outputs": [
    {
     "name": "stdout",
     "output_type": "stream",
     "text": [
      "S\n",
      "m\n",
      "u\n",
      "e\n"
     ]
    }
   ],
   "source": [
    "for letter in 'Samuel':\n",
    "    if(letter == 'a'):\n",
    "        continue\n",
    "    elif(letter == 'l'):\n",
    "        break\n",
    "    print(letter)"
   ]
  },
  {
   "cell_type": "code",
   "execution_count": 20,
   "metadata": {},
   "outputs": [
    {
     "name": "stdout",
     "output_type": "stream",
     "text": [
      "5\n",
      "6\n"
     ]
    }
   ],
   "source": [
    "x = 5\n",
    "while x < 10:\n",
    "    print(x)\n",
    "    x+=1\n",
    "    if(x == 7):\n",
    "        break"
   ]
  },
  {
   "cell_type": "code",
   "execution_count": null,
   "metadata": {},
   "outputs": [],
   "source": []
  }
 ],
 "metadata": {
  "kernelspec": {
   "display_name": "Python 3",
   "language": "python",
   "name": "python3"
  },
  "language_info": {
   "codemirror_mode": {
    "name": "ipython",
    "version": 3
   },
   "file_extension": ".py",
   "mimetype": "text/x-python",
   "name": "python",
   "nbconvert_exporter": "python",
   "pygments_lexer": "ipython3",
   "version": "3.6.5"
  }
 },
 "nbformat": 4,
 "nbformat_minor": 2
}

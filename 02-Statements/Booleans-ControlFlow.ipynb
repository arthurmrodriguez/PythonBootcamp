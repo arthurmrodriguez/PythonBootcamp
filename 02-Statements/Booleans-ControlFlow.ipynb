{
 "cells": [
  {
   "cell_type": "markdown",
   "metadata": {},
   "source": [
    "# Recordatorio\n",
    "\n",
    "En Python se utilizan los operadores lógicos **and**, **or** y **not** en vez de los clásicos *&&*, *||* y *!*"
   ]
  },
  {
   "cell_type": "markdown",
   "metadata": {},
   "source": [
    "# Flujo de control: if, elif y else"
   ]
  },
  {
   "cell_type": "markdown",
   "metadata": {},
   "source": [
    "El flujo de control utiliza **indentación de espacios en blanco** además del caracter **:** para indicar que a partir de ese momento se ejecutarán las sentencias **si y solo si** se cumple la condición en cuestión. La sintaxis general es:\n",
    "\n",
    "```\n",
    "if una_condicion:\n",
    "    #indentacion para codigo...\n",
    "elif otra_condicion:\n",
    "    #indentación para codigo...\n",
    "else:\n",
    "    #caso base\n",
    "```"
   ]
  },
  {
   "cell_type": "code",
   "execution_count": 3,
   "metadata": {},
   "outputs": [
    {
     "name": "stdout",
     "output_type": "stream",
     "text": [
      "It's true\n"
     ]
    }
   ],
   "source": [
    "if (3>2):\n",
    "    print('It\\'s true')\n",
    "elif ('h' == 'H'):\n",
    "    print('True again')\n",
    "else:\n",
    "    print('Default')"
   ]
  },
  {
   "cell_type": "markdown",
   "metadata": {},
   "source": [
    "# Bucles: for"
   ]
  },
  {
   "cell_type": "markdown",
   "metadata": {},
   "source": [
    "La sintaxis general de un bucle **for** implica la iteracion sobre un conjunto de valores, independientemente de como estén organizados. La sintaxis sería algo así:\n",
    "\n",
    "```\n",
    "iterable = [1,2,3]\n",
    "for nombre in iterable:\n",
    "    #hacer cosas...\n",
    "```"
   ]
  },
  {
   "cell_type": "code",
   "execution_count": 2,
   "metadata": {},
   "outputs": [],
   "source": [
    "mylist = [1,2,3,4,5,6,7,8,9,10]"
   ]
  },
  {
   "cell_type": "code",
   "execution_count": 9,
   "metadata": {},
   "outputs": [
    {
     "name": "stdout",
     "output_type": "stream",
     "text": [
      "El numero es 1 y 2\n",
      "El numero es 2 y 3\n",
      "El numero es 3 y 4\n",
      "El numero es 4 y 5\n",
      "El numero es 5 y 6\n",
      "El numero es 6 y 7\n",
      "El numero es 7 y 8\n",
      "El numero es 8 y 9\n",
      "El numero es 9 y 10\n",
      "El numero es 10 y 11\n"
     ]
    }
   ],
   "source": [
    "for num in mylist:\n",
    "    print(\"El numero es %d y %d\" %(num,num+1))"
   ]
  },
  {
   "cell_type": "code",
   "execution_count": 12,
   "metadata": {},
   "outputs": [
    {
     "name": "stdout",
     "output_type": "stream",
     "text": [
      "El 1 es impar\n",
      "El 2 es par\n",
      "El 3 es impar\n",
      "El 4 es par\n",
      "El 5 es impar\n",
      "El 6 es par\n",
      "El 7 es impar\n",
      "El 8 es par\n",
      "El 9 es impar\n",
      "El 10 es par\n"
     ]
    }
   ],
   "source": [
    "for num in mylist:\n",
    "    # Comprobar los pares\n",
    "    if not(num%2):\n",
    "        print(\"El %d es par\" %num)\n",
    "    else:\n",
    "        print(\"El %d es impar\" %num)"
   ]
  },
  {
   "cell_type": "code",
   "execution_count": 13,
   "metadata": {},
   "outputs": [
    {
     "name": "stdout",
     "output_type": "stream",
     "text": [
      "55\n"
     ]
    }
   ],
   "source": [
    "list_sum = 0\n",
    "\n",
    "for num in mylist:\n",
    "    list_sum+=num\n",
    "    \n",
    "print(list_sum)"
   ]
  },
  {
   "cell_type": "markdown",
   "metadata": {},
   "source": [
    "### Dato\n",
    "\n",
    "De la misma forma que se itera sobre listas de elementos es posible iterar sobre un **string**, ya que al fin y al cabo un string no es mas que una lista ordenada de caracteres, por lo que podríamos iterar sobre los elementos de un string tal que así.\n",
    "\n",
    "### Recordatorio:\n",
    "- El método print mete automáticamente un salto de linea al final de cada cosa que escribe en el flujo de salida.\n",
    "\n",
    "- Si no queremos utilizar la variable que hace referencia a la lista sobre la que estamos iterando, se puede utiliar el caracter _ para indicar que no se utiliza y asi hacerlo mas legible\n",
    "\n",
    "- Tambien se puede iterar sobre una tupla, pero se hace de forma ligeramente distinta si se trata de una lista de tuplas..."
   ]
  },
  {
   "cell_type": "code",
   "execution_count": 16,
   "metadata": {},
   "outputs": [
    {
     "name": "stdout",
     "output_type": "stream",
     "text": [
      "HolaMundo\n"
     ]
    }
   ],
   "source": [
    "upcase_string = ''\n",
    "for letter in \"holamundo\":\n",
    "    if( (letter == 'h') or (letter == 'm')):\n",
    "        upcase_string+= letter.upper()\n",
    "    else:\n",
    "        upcase_string+=letter\n",
    "print(upcase_string)\n",
    "        "
   ]
  },
  {
   "cell_type": "code",
   "execution_count": 17,
   "metadata": {},
   "outputs": [],
   "source": [
    "mylist = [(1,2),(3,4),(5,6),(7,8)]"
   ]
  },
  {
   "cell_type": "code",
   "execution_count": 18,
   "metadata": {},
   "outputs": [
    {
     "data": {
      "text/plain": [
       "4"
      ]
     },
     "execution_count": 18,
     "metadata": {},
     "output_type": "execute_result"
    }
   ],
   "source": [
    "len(mylist)"
   ]
  },
  {
   "cell_type": "code",
   "execution_count": 19,
   "metadata": {},
   "outputs": [
    {
     "name": "stdout",
     "output_type": "stream",
     "text": [
      "(1, 2)\n",
      "(3, 4)\n",
      "(5, 6)\n",
      "(7, 8)\n"
     ]
    }
   ],
   "source": [
    "for item in mylist:\n",
    "    print(item)"
   ]
  },
  {
   "cell_type": "markdown",
   "metadata": {},
   "source": [
    "Se puede aprovechar la potencia de Python para recorrer la lista de tuplas de forma que se utilicen variables que hacen referencia a la **estructura interna** de los elementos de la lista; se llama **tuple unpacking**"
   ]
  },
  {
   "cell_type": "code",
   "execution_count": 20,
   "metadata": {},
   "outputs": [
    {
     "name": "stdout",
     "output_type": "stream",
     "text": [
      "1\n",
      "2\n",
      "3\n",
      "4\n",
      "5\n",
      "6\n",
      "7\n",
      "8\n"
     ]
    }
   ],
   "source": [
    "for a,b in mylist:\n",
    "    print(a)\n",
    "    print(b)"
   ]
  },
  {
   "cell_type": "code",
   "execution_count": 29,
   "metadata": {},
   "outputs": [
    {
     "name": "stdout",
     "output_type": "stream",
     "text": [
      "1\n",
      "2\n",
      "3\n"
     ]
    }
   ],
   "source": [
    "d = {'k1':3, 'k2':1, 'k3':2}\n",
    "# Por defecto, al iterar sobre un diccionario se iterará sobre las claves UNICAMENTE\n",
    "for v in sorted(d.values()):\n",
    "    print(v)"
   ]
  },
  {
   "cell_type": "markdown",
   "metadata": {},
   "source": [
    "# Bucles: while\n",
    "\n",
    "La sintaxis es muy sencilla:\n",
    "\n",
    "```\n",
    "while boolean_condition:\n",
    "    # hacer algo...\n",
    "else:\n",
    "    # hacer otra cosa...\n",
    "```"
   ]
  },
  {
   "cell_type": "code",
   "execution_count": 32,
   "metadata": {},
   "outputs": [
    {
     "name": "stdout",
     "output_type": "stream",
     "text": [
      "El valor de x es 0\n",
      "El valor de x es 1\n",
      "El valor de x es 2\n",
      "El valor de x es 3\n",
      "El valor de x es 4\n",
      "Ahora el valor es 5\n"
     ]
    }
   ],
   "source": [
    "x = 0\n",
    "while x < 5:\n",
    "    print(f'El valor de x es {x}')\n",
    "    x+=1\n",
    "else:\n",
    "    print(f\"Ahora el valor es {x}\")"
   ]
  },
  {
   "cell_type": "markdown",
   "metadata": {},
   "source": [
    "## break, continue, pass\n",
    "\n",
    "```\n",
    "break: salto de control para salir del bucle mas cercano\n",
    "continue: salto de control para ir al inicio del bucle más cercano\n",
    "pass: No hace nada. Útil como placeholder que permite evitar errores sintácticos a la hora de hacer codigo.\n",
    "```"
   ]
  },
  {
   "cell_type": "code",
   "execution_count": 34,
   "metadata": {},
   "outputs": [],
   "source": [
    "x = [1,2,3]\n",
    "\n",
    "for item in x:\n",
    "    # Permite que lo que espera el script sea un pass...\n",
    "    pass"
   ]
  },
  {
   "cell_type": "code",
   "execution_count": 40,
   "metadata": {},
   "outputs": [
    {
     "name": "stdout",
     "output_type": "stream",
     "text": [
      "S\n",
      "m\n",
      "u\n",
      "e\n"
     ]
    }
   ],
   "source": [
    "for letter in 'Samuel':\n",
    "    if(letter == 'a'):\n",
    "        continue\n",
    "    elif(letter == 'l'):\n",
    "        break\n",
    "    print(letter)"
   ]
  },
  {
   "cell_type": "code",
   "execution_count": 1,
   "metadata": {},
   "outputs": [
    {
     "name": "stdout",
     "output_type": "stream",
     "text": [
      "5\n",
      "6\n"
     ]
    }
   ],
   "source": [
    "x = 5\n",
    "while x < 10:\n",
    "    print(x)\n",
    "    x+=1\n",
    "    if(x == 7):\n",
    "        break"
   ]
  },
  {
   "cell_type": "code",
   "execution_count": null,
   "metadata": {},
   "outputs": [],
   "source": []
  }
 ],
 "metadata": {
  "kernelspec": {
   "display_name": "Python 3",
   "language": "python",
   "name": "python3"
  },
  "language_info": {
   "codemirror_mode": {
    "name": "ipython",
    "version": 3
   },
   "file_extension": ".py",
   "mimetype": "text/x-python",
   "name": "python",
   "nbconvert_exporter": "python",
   "pygments_lexer": "ipython3",
   "version": "3.6.5"
  }
 },
 "nbformat": 4,
 "nbformat_minor": 2
}

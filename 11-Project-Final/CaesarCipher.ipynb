{
 "cells": [
  {
   "cell_type": "markdown",
   "metadata": {},
   "source": [
    "# Final Capstone Project: Caesar's Cypher\n",
    "\n",
    "Security\n",
    "-------------\n",
    "\n",
    "**Caesar cipher** - Implement a Caesar cipher, both encoding and decoding. The key is an integer from 1 to 25. This cipher rotates the letters of the alphabet (A to Z). The encoding replaces each letter with the 1st to 25th next letter in the alphabet (wrapping Z to A). So key 2 encrypts \"HI\" to \"JK\", but key 20 encrypts \"HI\" to \"BC\". This simple \"monoalphabetic substitution cipher\" provides almost no security, because an attacker who has the encoded message can either use frequency analysis to guess the key, or just try all 25 keys."
   ]
  },
  {
   "cell_type": "markdown",
   "metadata": {},
   "source": [
    "1. Let's create a CaesarCipher class to store the **key** and the operations of **encrypting and decrypting**. We chose to use a class in order to use *almost* everything we've learned so far from this course.\n",
    "\n",
    "2. We need the entire alphabet, so we'll use **string** module to add a class attribute with the value of the alphabet."
   ]
  },
  {
   "cell_type": "code",
   "execution_count": 48,
   "metadata": {},
   "outputs": [],
   "source": [
    "import string\n",
    "\n",
    "class CaesarCipher():\n",
    "    \n",
    "    # Base of Caesar cipher\n",
    "    alphabet = list(string.ascii_lowercase + '')\n",
    "    \n",
    "    # Constructor: default key is 2\n",
    "    def __init__(self,key = 2):\n",
    "        self.key = key\n",
    "        \n",
    "        \n",
    "    # Encode method\n",
    "    def encode(self, word):\n",
    "        \n",
    "        new_word = ''\n",
    "        \n",
    "        for letter in word.lower():\n",
    "            \n",
    "            if letter != ' ':\n",
    "                new_index = (alphabet.index(letter) + self.key) % len(alphabet)\n",
    "                new_word += alphabet[new_index]\n",
    "            else:\n",
    "                new_word+=' '\n",
    "            \n",
    "        return new_word\n",
    "    \n",
    "    # Decode method\n",
    "    def decode(self, word):\n",
    "        \n",
    "        original_word = ''\n",
    "        \n",
    "        for letter in word.lower():\n",
    "            \n",
    "            if letter != ' ':\n",
    "                new_index = (alphabet.index(letter) - self.key) % len(alphabet)\n",
    "                original_word += alphabet[new_index]\n",
    "            else:\n",
    "                original_word+=' '\n",
    "            \n",
    "        return original_word\n",
    "        "
   ]
  },
  {
   "cell_type": "code",
   "execution_count": 44,
   "metadata": {},
   "outputs": [],
   "source": [
    "cipher = CaesarCipher(9)"
   ]
  },
  {
   "cell_type": "code",
   "execution_count": 47,
   "metadata": {},
   "outputs": [
    {
     "name": "stdout",
     "output_type": "stream",
     "text": [
      "Enconded word: krnwenwrmx ju lroajmx mn lnbja nw yhcqxw\n",
      "Original word: bienvenido al cifrado de cesar en python\n"
     ]
    }
   ],
   "source": [
    "word = 'Bienvenido al cifrado de Cesar en Python'\n",
    "word_encode = cipher.encode(word)\n",
    "print('Enconded word: '+ word_encode)\n",
    "word_decode = cipher.decode(word_encode)\n",
    "print('Original word: '+ word_decode)"
   ]
  },
  {
   "cell_type": "code",
   "execution_count": null,
   "metadata": {},
   "outputs": [],
   "source": []
  }
 ],
 "metadata": {
  "kernelspec": {
   "display_name": "Python 3",
   "language": "python",
   "name": "python3"
  },
  "language_info": {
   "codemirror_mode": {
    "name": "ipython",
    "version": 3
   },
   "file_extension": ".py",
   "mimetype": "text/x-python",
   "name": "python",
   "nbconvert_exporter": "python",
   "pygments_lexer": "ipython3",
   "version": "3.6.5"
  }
 },
 "nbformat": 4,
 "nbformat_minor": 2
}
